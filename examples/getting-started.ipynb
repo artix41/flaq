{
 "cells": [
  {
   "cell_type": "code",
   "execution_count": null,
   "id": "fad86c5b-2e3a-43f0-9f90-ca9075571396",
   "metadata": {},
   "outputs": [],
   "source": [
    "%load_ext autoreload\n",
    "%autoreload 2"
   ]
  },
  {
   "cell_type": "code",
   "execution_count": null,
   "id": "370050c5-3742-46d4-8b0b-91887e3475b7",
   "metadata": {},
   "outputs": [],
   "source": [
    "from itertools import combinations\n",
    "from ldpc.codes import ring_code, rep_code, hamming_code\n",
    "import matplotlib.pyplot as plt\n",
    "import numpy as np\n",
    "import networkx as nx\n",
    "import pandas as pd\n",
    "from pyvis.network import Network\n",
    "from scipy.sparse import csr_array\n",
    "\n",
    "from flaq.chain_complex import HypergraphComplex, DoubleSquareComplex\n",
    "from flaq.flag_code import FlagCode, make_even, random_code"
   ]
  },
  {
   "cell_type": "markdown",
   "id": "bc41d3e3-52f3-491e-9caf-d4d2c4aed34c",
   "metadata": {},
   "source": [
    "## Generate initial chain complex"
   ]
  },
  {
   "cell_type": "markdown",
   "id": "9fcbe2df-f601-4296-b9c4-40db19c5ea97",
   "metadata": {},
   "source": [
    "### 2D Hypergraph product code"
   ]
  },
  {
   "cell_type": "code",
   "execution_count": null,
   "id": "501218ea-cfde-4a4f-b900-0f72ba3af835",
   "metadata": {},
   "outputs": [],
   "source": [
    "# H1 = make_even(random_code(3, 4))\n",
    "# H2 = ring_code(3)\n",
    "\n",
    "# complex = HypergraphComplex([H1, H2])"
   ]
  },
  {
   "cell_type": "markdown",
   "id": "f9493ea0-9c25-453d-b885-1539f35daf38",
   "metadata": {},
   "source": [
    "### 3D Hypergraph product code"
   ]
  },
  {
   "cell_type": "code",
   "execution_count": null,
   "id": "43523254-0404-4ea3-a9fb-42afae402377",
   "metadata": {},
   "outputs": [],
   "source": [
    "H1 = ring_code(2)\n",
    "H2 = ring_code(2)\n",
    "H3 = ring_code(2)\n",
    "\n",
    "complex = HypergraphComplex([H1, H2, H3])"
   ]
  },
  {
   "cell_type": "markdown",
   "id": "85d534b4-a981-4966-87ea-33a3de99d63d",
   "metadata": {},
   "source": [
    "### Double square complex"
   ]
  },
  {
   "cell_type": "code",
   "execution_count": null,
   "id": "a0cebdb9-7311-4a9e-853d-d90ebd1a5768",
   "metadata": {},
   "outputs": [],
   "source": [
    "# complex = DoubleSquareComplex(2, 2, periodic=False, sanity_check=True)"
   ]
  },
  {
   "cell_type": "markdown",
   "id": "fa1ee649-cce8-4e2a-b674-ffd7aa0ca183",
   "metadata": {},
   "source": [
    "### Check properties of chain complex"
   ]
  },
  {
   "cell_type": "code",
   "execution_count": null,
   "id": "0e77bc0d-64a0-4169-925c-0cfce25b97f1",
   "metadata": {},
   "outputs": [],
   "source": [
    "print(\"n\", complex.get_n())\n",
    "print(\"k\", complex.get_k())\n",
    "print(\"d\", complex.get_d())"
   ]
  },
  {
   "cell_type": "markdown",
   "id": "99123caa-4865-4b26-b25d-ee857fa584f8",
   "metadata": {},
   "source": [
    "## Generate flag code"
   ]
  },
  {
   "cell_type": "markdown",
   "id": "3986dbd4-ba3b-42ad-91da-515eb546b8ba",
   "metadata": {},
   "source": [
    "### Flag code generation"
   ]
  },
  {
   "cell_type": "code",
   "execution_count": null,
   "id": "128338d5-1488-43e9-90f1-839eebe43b89",
   "metadata": {},
   "outputs": [],
   "source": [
    "# Number of colours for the subgraphs\n",
    "\n",
    "# 2D\n",
    "# x, z = 2, 2\n",
    "# stabilizer_types = {\n",
    "#     'X': {(1,2): 'rainbow', (1,3): 'maximal', (2,3): 'rainbow'},\n",
    "#     'Z': {(1,2): 'rainbow', (1,3): 'maximal', (2,3): 'rainbow'}\n",
    "# }\n",
    "\n",
    "# 3D\n",
    "x, z = 3, 2\n",
    "stabilizer_types = {\n",
    "    'X': {(1,2,3): 'rainbow', (2,3,4): 'rainbow', (1,3,4): 'maximal', (1,2,4): 'maximal'},\n",
    "    'Z': {(1,2): 'rainbow', (1,3): 'rainbow', (2,3): 'rainbow', (2,4): 'rainbow', (3,4): 'rainbow', (1,4): 'maximal'}\n",
    "}\n",
    "\n",
    "flag_code = FlagCode(\n",
    "    complex.boundary_operators,\n",
    "    x=x,\n",
    "    z=z,\n",
    "    add_boundary_pins=False,\n",
    "    stabilizer_types=stabilizer_types,\n",
    "    verbose=True\n",
    ")\n",
    "print(\"Number of qubits\", flag_code.n_flags)\n",
    "print(\"Is valid pin code?\", flag_code.is_pin_code_relation())\n",
    "print(\"Is valid CSS code?\", flag_code.is_valid_css())"
   ]
  },
  {
   "cell_type": "markdown",
   "id": "52386646-edef-49a2-9b0f-48cf4563d6c1",
   "metadata": {},
   "source": [
    "### Properties"
   ]
  },
  {
   "cell_type": "code",
   "execution_count": null,
   "id": "b9673362-90a1-4a25-b38b-e1b84e44af38",
   "metadata": {},
   "outputs": [],
   "source": [
    "print(\"n\", flag_code.n)\n",
    "print(\"k\", flag_code.k)\n",
    "print(\"d\", flag_code.d)"
   ]
  },
  {
   "cell_type": "markdown",
   "id": "4f2543fa-ad9b-43a0-b209-1774f6fed4b4",
   "metadata": {},
   "source": [
    "### Visualization"
   ]
  },
  {
   "cell_type": "code",
   "execution_count": null,
   "id": "9a9cd84c-5347-464e-9f9f-2936ed4c05ac",
   "metadata": {},
   "outputs": [],
   "source": [
    "nt = flag_code.draw(restricted_nodes=list(range(15))), restricted_depth=3)\n",
    "nt.show('nx.html')"
   ]
  },
  {
   "cell_type": "markdown",
   "id": "88530c01-fd4b-42af-af53-5f68f2b28a94",
   "metadata": {},
   "source": [
    "### Parity-check and logical matrices"
   ]
  },
  {
   "cell_type": "code",
   "execution_count": null,
   "id": "15f92fb5-6d44-4d95-8ab0-3342b53b40e9",
   "metadata": {},
   "outputs": [],
   "source": [
    "print(\"Hx\", flag_code.Hx)\n",
    "print(\"Hz\", flag_code.Hz)\n",
    "print(\"Logicals X\", flag_code.x_logicals)\n",
    "print(\"Logicals Z\", flag_code.z_logicals)"
   ]
  },
  {
   "cell_type": "markdown",
   "id": "e9fc7ef3-ee82-48a3-95f3-54682a252e8f",
   "metadata": {},
   "source": [
    "### Check triorthogonality"
   ]
  },
  {
   "cell_type": "code",
   "execution_count": null,
   "id": "68c0a2ce-28f3-47a3-8055-e933a723038b",
   "metadata": {},
   "outputs": [],
   "source": [
    "flag_code.is_multiorthogonal(3)"
   ]
  }
 ],
 "metadata": {
  "kernelspec": {
   "display_name": "Python 3 (ipykernel)",
   "language": "python",
   "name": "python3"
  },
  "language_info": {
   "codemirror_mode": {
    "name": "ipython",
    "version": 3
   },
   "file_extension": ".py",
   "mimetype": "text/x-python",
   "name": "python",
   "nbconvert_exporter": "python",
   "pygments_lexer": "ipython3",
   "version": "3.10.11"
  }
 },
 "nbformat": 4,
 "nbformat_minor": 5
}
